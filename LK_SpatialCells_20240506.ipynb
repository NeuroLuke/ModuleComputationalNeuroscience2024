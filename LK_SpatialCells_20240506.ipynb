{
  "nbformat": 4,
  "nbformat_minor": 0,
  "metadata": {
    "colab": {
      "provenance": [],
      "include_colab_link": true
    },
    "kernelspec": {
      "name": "python3",
      "display_name": "Python 3"
    },
    "language_info": {
      "name": "python"
    }
  },
  "cells": [
    {
      "cell_type": "markdown",
      "metadata": {
        "id": "view-in-github",
        "colab_type": "text"
      },
      "source": [
        "<a href=\"https://colab.research.google.com/github/NeuroLuke/ModuleComputationalNeuroscience2024/blob/main/LK_SpatialCells_20240506.ipynb\" target=\"_parent\"><img src=\"https://colab.research.google.com/assets/colab-badge.svg\" alt=\"Open In Colab\"/></a>"
      ]
    },
    {
      "cell_type": "markdown",
      "source": [
        "# **NOTE:** Please first make a copy of this tutorial, and then use your copy for running and making any changes."
      ],
      "metadata": {
        "id": "E3U-OZjzV_xA"
      }
    },
    {
      "cell_type": "markdown",
      "source": [
        "# **Simulation and analysis of spatial cells**\n",
        "\n",
        "### **Overview**\n",
        "\n",
        "The goal of this tutorial is to give you an example of how one can simulate and analyze the activity of spatial cells including place cells and head-direction cells. Here is a complete pipeline that does the following:\n",
        "1. Simulate a subject's navigation path through a 2D environment.\n",
        "2. Simulate the activity of a place cell.\n",
        "3. Analyze this place cell.\n",
        "4. Simulate and analyze a head-direction cell.\n",
        "\n",
        "If you have difficulties writing the code on your own, refer to section 5 to get a walk-through of Steps 1 and 2.\n"
      ],
      "metadata": {
        "id": "bWjZGtOi9oaq"
      }
    },
    {
      "cell_type": "markdown",
      "source": [
        "## **Setting up the Python environment**\n",
        "\n",
        "### Import necessary packages\n",
        "\n",
        "One of the main advantages of Python is that it is easily modified and extended to new use cases. A primary consequence of this is **packages**. Here, packages refer to open-sourced libraries of code that have been developed for specific purposes, like statistical analysis, plotting, or machine learning. They are not built-in to Python itself, but must be **imported** into your script in order to use them.\n",
        "\n",
        "In this notebook, we will primarily use three packages, **numpy**, **pandas** and **matplotlib**. These packages give you a large range of new functions and methods to work with and make it a lot easier to work with scientific data!\n",
        "\n",
        "If you are ever curious about a package's function or need to know how to use it, you can find this info in the package **documentation**."
      ],
      "metadata": {
        "id": "LZ59b4U990Sp"
      }
    },
    {
      "cell_type": "code",
      "source": [
        "# let's import some useful packages\n",
        "import numpy as np\n",
        "import matplotlib.pyplot as plt\n",
        "import pandas as pd"
      ],
      "metadata": {
        "id": "5Uneod1E96UO"
      },
      "execution_count": null,
      "outputs": []
    },
    {
      "cell_type": "markdown",
      "source": [
        "## **Section 1: Simulate the animal's path through the environment**\n",
        "\n",
        "In studies investigating place cells and head-direction cells, the animal typically moves through a two-dimensional environment. Since this is a simulation study, we also need to simulate the animal's trajectory through space.\n",
        "\n",
        "Please complete the following two tasks:\n",
        "1. Write some code to simulate the path of the animal in 2D space.\n",
        "2. Plot the animal's navigation path."
      ],
      "metadata": {
        "id": "Mgcr5L72Q1tU"
      }
    },
    {
      "cell_type": "code",
      "source": [
        "# code for simulating the path"
      ],
      "metadata": {
        "id": "uKOYMpspR3d0"
      },
      "execution_count": null,
      "outputs": []
    },
    {
      "cell_type": "code",
      "source": [
        "# code for plotting the simulated path"
      ],
      "metadata": {
        "id": "mRfqr1e6-FK8"
      },
      "execution_count": null,
      "outputs": []
    },
    {
      "cell_type": "markdown",
      "source": [
        "## **Section 2: Simulate a place cell**\n",
        "\n",
        "A place cell is a cell that fires its action potentials whenever the animal is in a particular part of the two-dimensional environment.\n",
        "\n",
        "Please complete the following two tasks:\n",
        "1. Write some code to simulate the activity of such a cell over time.\n",
        "2. Plot the cell's activity as a function of two-dimensional position.\n",
        "\n"
      ],
      "metadata": {
        "id": "6Gqb2KH4-BW8"
      }
    },
    {
      "cell_type": "code",
      "source": [
        "# code for simulating the activity of the place cell"
      ],
      "metadata": {
        "id": "6q1aSVYqt9eQ"
      },
      "execution_count": null,
      "outputs": []
    },
    {
      "cell_type": "code",
      "source": [
        "# code for plotting the simualted place cell"
      ],
      "metadata": {
        "id": "TuuMLVl6uTmT"
      },
      "execution_count": null,
      "outputs": []
    },
    {
      "cell_type": "markdown",
      "source": [
        "## **Section 3: Analyze the place cell**\n",
        "\n",
        "To identify whether the activity profile of a cell is that of a place cell, place-cell studies often compute the spatial information content of the cell.\n",
        "\n",
        "Please complete the following three tasks:\n",
        "1. Learn how to estimate a cell's spatial information content. To this end, you can look at this paper: Souza et al., Neuroscience, 2018.\n",
        "2. Estimate the cell's spatial information content.\n",
        "3. Test whether the cell's spatial information content is significant in comparison to surrogate spatial information content obtained through circularly shifting the firing rates."
      ],
      "metadata": {
        "id": "XPlEkCNHu0P_"
      }
    },
    {
      "cell_type": "code",
      "source": [
        "# code for analyzing the place cell"
      ],
      "metadata": {
        "id": "avxn2xnl0Af5"
      },
      "execution_count": null,
      "outputs": []
    },
    {
      "cell_type": "markdown",
      "source": [
        "## **Section 4: Simulation and analysis of a head-direction cell**\n",
        "\n",
        "Now that you're done with the place-cell part, do the same for a head-direction cell.\n",
        "\n",
        "Please complete the following parts:\n",
        "1. Simulate a head-direction cell.\n",
        "2. Analyze the head-direction cell using the mean resultant vector length of its directional tuning curve."
      ],
      "metadata": {
        "id": "Z_kQdNPYvfBZ"
      }
    },
    {
      "cell_type": "code",
      "source": [
        "# code for simulating and analyzing a head-direction cell"
      ],
      "metadata": {
        "id": "hi0VaPV4z8N9"
      },
      "execution_count": null,
      "outputs": []
    },
    {
      "cell_type": "markdown",
      "source": [
        "## **Section 5: helper code**\n",
        "\n",
        "If you have problems writing the code on your own, you can use the code below as an inspiration."
      ],
      "metadata": {
        "id": "9IXPpRv9YlS1"
      }
    },
    {
      "cell_type": "markdown",
      "source": [
        "Let's start with defining some parameters. It's useful to declare all parameters at the beginning of a script so that they are easily visible when starting the analysis."
      ],
      "metadata": {
        "id": "yfwuAqDndSrz"
      }
    },
    {
      "cell_type": "code",
      "source": [
        "# settings for the environment\n",
        "environment = {}\n",
        "environment['edge_length'] = 200\n",
        "environment['limits_x'] = [-100, 100]\n",
        "environment['limits_y'] = [-100, 100]\n",
        "\n",
        "# settings for the analysis\n",
        "analysis = {}\n",
        "analysis['x_bin_width'] = 20\n",
        "analysis['y_bin_width'] = 20\n",
        "analysis['x_bin_edges'] = np.linspace(np.min(environment['limits_x']), np.max(environment['limits_x']), int(environment['edge_length'] / analysis['x_bin_width'] + 1))\n",
        "analysis['x_bin_centers'] = np.convolve(analysis['x_bin_edges'], np.ones(2) / 2, mode = 'valid')\n",
        "analysis['y_bin_edges'] = np.linspace(np.min(environment['limits_y']), np.max(environment['limits_y']), int(environment['edge_length'] / analysis['y_bin_width'] + 1))\n",
        "analysis['y_bin_centers'] = np.convolve(analysis['y_bin_edges'], np.ones(2) / 2, mode = 'valid')\n",
        "\n",
        "# settings for the place cell we want to simulate\n",
        "place_cell_properties = {}\n",
        "place_cell_properties['pf_x'] = 5\n",
        "place_cell_properties['pf_y'] = 10\n",
        "place_cell_properties['pf_radius'] = 20\n",
        "place_cell_properties['neural_noise'] = 0\n",
        "\n",
        "# settings for plotting\n",
        "plotting = {}\n",
        "plotting['cm'] = 1 / 2.54"
      ],
      "metadata": {
        "id": "PgIRZeA-dWsf"
      },
      "execution_count": null,
      "outputs": []
    },
    {
      "cell_type": "markdown",
      "source": [
        "Let's define a function for creating a navigation path through a 2D environment. The output comprises time stamps, the subject's x-coordinate in the environment, the subject's y-coordinate in the environment, and the subject's heading direction (in radians)."
      ],
      "metadata": {
        "id": "g_PIrXndxtSb"
      }
    },
    {
      "cell_type": "code",
      "source": [
        "# function: create random-walk trajectory\n",
        "def simulate_random_walk(time_step: float, duration: int, speed: float, initial_direction: float, tortuosity: float,\n",
        "         environment_radius: float, environment_is_square: bool):\n",
        "    \"\"\"\n",
        "    Simulates a random walk trajectory.\n",
        "\n",
        "    Arguments:\n",
        "        time_step (float): time step in seconds\n",
        "        duration (int): total duration in seconds\n",
        "        speed (float): speed of the agent in centimeters per second\n",
        "        initial_direction (float): initial direction in radians\n",
        "        tortuosity (float): tortuosity of the trajectory\n",
        "        environment_radius (float): half the environment size\n",
        "        environment_is_square (bool): whether the environment is a square\n",
        "\n",
        "    Returns: dataframe \"beh\" including\n",
        "        t:              times\n",
        "        subj_x:         subject's x coordinates\n",
        "        subj_y:         subject's y coordinates\n",
        "        subj_allo_dir:  subject's allocentric movement directions\n",
        "    \"\"\"\n",
        "\n",
        "    # preallocate time\n",
        "    t = np.round(np.arange(0, duration + time_step, time_step), 3)\n",
        "    print(f\"Simulating a random walk. Start time: {min(t):.1f}. End time: {max(t):.1f}.\")\n",
        "\n",
        "    # preallocate trajectory\n",
        "    subj_x, subj_y, subj_allo_dir = np.zeros((3, len(t)))\n",
        "\n",
        "    # initial movement direction\n",
        "    if initial_direction is None:\n",
        "        current_direction = np.random.uniform(-np.pi, np.pi) # random first walking direction\n",
        "    else:\n",
        "        current_direction = initial_direction\n",
        "\n",
        "    # sample trajectory\n",
        "    for i_time in range(len(t) - 1):\n",
        "\n",
        "        # produce this movement step\n",
        "        is_within_environment = False\n",
        "        tmp_tortuosity = tortuosity # start with the pre-defined tortuosity\n",
        "        tmp_count = 0\n",
        "        while not is_within_environment:\n",
        "\n",
        "            # new movement direction\n",
        "            next_direction = current_direction + tmp_tortuosity * np.sqrt(time_step) * np.random.randn()\n",
        "            dx = np.cos(next_direction) * speed * time_step\n",
        "            dy = np.sin(next_direction) * speed * time_step\n",
        "\n",
        "            # next subject position\n",
        "            next_subj_x = subj_x[i_time] + dx\n",
        "            next_subj_y = subj_y[i_time] + dy\n",
        "\n",
        "            # check whether next position is within the environment\n",
        "            if environment_is_square == True:\n",
        "                if (np.abs(next_subj_x) > environment_radius) or (np.abs(next_subj_y) > environment_radius):\n",
        "                    is_within_environment = False\n",
        "                else:\n",
        "                    is_within_environment = True\n",
        "\n",
        "            # increase tortuosity after a while\n",
        "            tmp_count += 1\n",
        "            if tmp_count == 50:\n",
        "                tmp_tortuosity = tmp_tortuosity * 1.25 # increase the tortuosity\n",
        "                tmp_count = 0\n",
        "\n",
        "        # calculate new position\n",
        "        subj_x[i_time + 1] = next_subj_x\n",
        "        subj_y[i_time + 1] = next_subj_y\n",
        "\n",
        "        # allocentric movement direction\n",
        "        current_direction = np.arctan2(dy, dx)\n",
        "        subj_allo_dir[i_time + 1] = current_direction\n",
        "\n",
        "    # output\n",
        "    beh = pd.DataFrame(\n",
        "        {'t': t,\n",
        "         'subj_x': subj_x,\n",
        "         'subj_y': subj_y,\n",
        "         'subj_allo_dir': subj_allo_dir,\n",
        "        })\n",
        "\n",
        "    return beh"
      ],
      "metadata": {
        "id": "0EXlh7NdSXkf"
      },
      "execution_count": null,
      "outputs": []
    },
    {
      "cell_type": "markdown",
      "source": [
        "Now we can use the previously defined function \"simulate_random_walk\" to create the animal's navigation trajectory through space."
      ],
      "metadata": {
        "id": "1wT8zIpsTQz2"
      }
    },
    {
      "cell_type": "code",
      "source": [
        "# simulate navigation trajectory\n",
        "beh = simulate_random_walk(time_step = 0.1, duration = 1800, speed = 10, initial_direction = 0, tortuosity = 0.5, environment_radius = 100, environment_is_square = True)"
      ],
      "metadata": {
        "colab": {
          "base_uri": "https://localhost:8080/"
        },
        "id": "i-EFdGXtSlud",
        "outputId": "1917069b-4857-44cf-b653-a8b7788bca1c"
      },
      "execution_count": null,
      "outputs": [
        {
          "output_type": "stream",
          "name": "stdout",
          "text": [
            "Simulating a random walk. Start time: 0.0. End time: 1800.0.\n"
          ]
        }
      ]
    },
    {
      "cell_type": "markdown",
      "source": [
        "Let's also create a function for plotting the navigation path. Nice plots often require quite some code."
      ],
      "metadata": {
        "id": "9K_DPGDjyQtJ"
      }
    },
    {
      "cell_type": "code",
      "source": [
        "# function for plotting the navigation path\n",
        "def plot_navigation_path(beh, environment, analysis, plotting):\n",
        "    \"\"\"\n",
        "    This function creates a figure to show the navigation path.\n",
        "\n",
        "    Arguments:\n",
        "        beh: behavioral data\n",
        "        environment: settings for the environment\n",
        "        analysis: settings for the analysis\n",
        "        plotting: settings for plotting\n",
        "    \"\"\"\n",
        "\n",
        "    # main plot\n",
        "    fig = plt.figure(facecolor = \"white\", figsize = (8 * plotting['cm'], 8 * plotting['cm']))\n",
        "    main_ax = fig.add_axes([0.225, 0.25, 0.5, 0.5])\n",
        "    extent = [np.min(analysis['x_bin_edges']), np.max(analysis['x_bin_edges']), np.min(analysis['y_bin_edges']), np.max(analysis['y_bin_edges'])]\n",
        "    navi = main_ax.scatter(beh.subj_x, beh.subj_y, c = beh.subj_allo_dir, vmin = -np.pi, vmax = np.pi, cmap = 'twilight', s = 0.5) # navigation path\n",
        "    main_ax.set_title('Path', fontsize = 12, pad = 5)\n",
        "    main_ax.set_xlabel('x', labelpad = -8, fontsize = 12)\n",
        "    main_ax.set_ylabel('y', labelpad = -30, fontsize = 12, rotation = 0, va = 'center')\n",
        "    main_ax.set_xlim([min(environment['limits_x']), max(environment['limits_x'])])\n",
        "    main_ax.set_ylim([min(environment['limits_y']), max(environment['limits_y'])])\n",
        "    main_ax.set_xticks(np.linspace(min(environment['limits_x']), max(environment['limits_x']), 2))\n",
        "    main_ax.set_yticks(np.linspace(min(environment['limits_y']), max(environment['limits_y']), 2))\n",
        "    main_ax.tick_params(axis = 'both', labelsize = 12)\n",
        "    # colorbar for allocentric heading direction\n",
        "    cb_ax = fig.add_axes([0.75, 0.3, 0.025, 0.4])\n",
        "    cb_ax.axis('off')\n",
        "    cb = fig.colorbar(navi, ax = cb_ax, fraction = 1)\n",
        "    cb.set_label('Allocentric direction', rotation = 270, labelpad = 15, fontsize = 12)\n",
        "    cb.set_ticks(np.linspace(-np.pi, np.pi, 5))\n",
        "    cb.set_ticklabels(np.linspace(-180, 180, 5).astype(int), fontsize = 12)\n",
        "    # save figure\n",
        "    plt.show()"
      ],
      "metadata": {
        "id": "_OWGtV2EUaWl"
      },
      "execution_count": null,
      "outputs": []
    },
    {
      "cell_type": "markdown",
      "source": [
        "Cool, let's use the previously defined function to plot the subject's navigation path."
      ],
      "metadata": {
        "id": "KvNj1GEYTgn_"
      }
    },
    {
      "cell_type": "code",
      "source": [
        "# plot the navigation path\n",
        "plot_navigation_path(beh, environment, analysis, plotting)"
      ],
      "metadata": {
        "colab": {
          "base_uri": "https://localhost:8080/",
          "height": 250
        },
        "id": "5t68R12XTO-D",
        "outputId": "5f4f6620-3c42-4ae1-c35c-cfb5b7107280"
      },
      "execution_count": null,
      "outputs": [
        {
          "output_type": "display_data",
          "data": {
            "text/plain": [
              "<Figure size 314.961x314.961 with 3 Axes>"
            ],
            "image/png": "[encoded data removed]"
          },
          "metadata": {}
        }
      ]
    },
    {
      "cell_type": "markdown",
      "source": [
        "Excellent! Let's define a function for simulating place-cell activity."
      ],
      "metadata": {
        "id": "llio6IiFeGNM"
      }
    },
    {
      "cell_type": "code",
      "source": [
        "def simulate_allocentric_place_cell_activity(beh, pf_x: float, pf_y: float, pf_radius: float, neural_noise: float):\n",
        "    \"\"\"\n",
        "    Simulates place cell activity.\n",
        "    It uses a Gaussian kernel to simulate the place cell activity.\n",
        "\n",
        "    Arguments:\n",
        "        beh (dataframe): behavioral information\n",
        "        pf_x (float): x-position of the place field\n",
        "        pf_y (float): y-position of the place field\n",
        "        pf_radius (float): standard deviation of the Gaussian function\n",
        "        neural_noise (float): neural noise\n",
        "\n",
        "    Returns: dataframe \"beh_neural\" with\n",
        "        t: time\n",
        "        subj_x: subject's x-locations\n",
        "        subj_y: subject's y-locations\n",
        "        firing_rate: cellular firing rates\n",
        "    \"\"\"\n",
        "\n",
        "    # Euclidean distance between the subject's position and the place-field center\n",
        "    distances = np.sqrt((pf_x - beh.subj_x)**2 + (pf_y - beh.subj_y)**2)\n",
        "\n",
        "    # simulate firing rates using a Gaussian function\n",
        "    firing_rate = np.exp(-(distances**2) / (2 * pf_radius**2))\n",
        "\n",
        "    # add noise\n",
        "    firing_rate = firing_rate + neural_noise * np.random.randn(len(firing_rate))\n",
        "\n",
        "    # ensure that firing rates are between 0 and 1\n",
        "    firing_rate = firing_rate - np.min(firing_rate)\n",
        "    firing_rate = firing_rate / np.max(firing_rate)\n",
        "\n",
        "    # output\n",
        "    beh_neural = pd.DataFrame({\n",
        "        't': beh.t,\n",
        "        'subj_x': beh.subj_x,\n",
        "        'subj_y': beh.subj_y,\n",
        "        'subj_allo_dir': beh.subj_allo_dir,\n",
        "        'firing_rate': firing_rate})\n",
        "\n",
        "    return beh_neural"
      ],
      "metadata": {
        "id": "PL0H_t6QegM2"
      },
      "execution_count": null,
      "outputs": []
    },
    {
      "cell_type": "markdown",
      "source": [
        "❓ **What do the inputs to this function mean?**"
      ],
      "metadata": {
        "id": "mRCg_2mKy05F"
      }
    },
    {
      "cell_type": "markdown",
      "source": [
        "Let's use the previously defined function to simulate the place cell, given its properties that we set above."
      ],
      "metadata": {
        "id": "hzqfhDWh0Vwg"
      }
    },
    {
      "cell_type": "code",
      "source": [
        "# simulate this place cell\n",
        "beh_neural = simulate_allocentric_place_cell_activity(\n",
        "    beh = beh,\n",
        "    pf_x = place_cell_properties['pf_x'],\n",
        "    pf_y = place_cell_properties['pf_y'],\n",
        "    pf_radius = place_cell_properties['pf_radius'],\n",
        "    neural_noise = place_cell_properties['neural_noise'],\n",
        ")"
      ],
      "metadata": {
        "id": "nsp0oIaceKKB"
      },
      "execution_count": null,
      "outputs": []
    },
    {
      "cell_type": "markdown",
      "source": [
        "Let's have a quick look at the numerical output of the place-cell simulation."
      ],
      "metadata": {
        "id": "JzyyjT7g0hl9"
      }
    },
    {
      "cell_type": "code",
      "source": [
        "print(beh_neural)"
      ],
      "metadata": {
        "colab": {
          "base_uri": "https://localhost:8080/"
        },
        "id": "N6C-iRYy0mMi",
        "outputId": "589eb216-540e-4d60-bd90-6dde67885632"
      },
      "execution_count": null,
      "outputs": [
        {
          "output_type": "stream",
          "name": "stdout",
          "text": [
            "            t     subj_x     subj_y  subj_allo_dir   firing_rate\n",
            "0         0.0   0.000000   0.000000       0.000000  8.825782e-01\n",
            "1         0.1   0.977462  -0.211110      -0.212710  8.876149e-01\n",
            "2         0.2   1.976700  -0.250157      -0.039057  8.945670e-01\n",
            "3         0.3   2.972260  -0.344288      -0.094271  8.980290e-01\n",
            "4         0.4   3.965030  -0.224258       0.120320  9.042349e-01\n",
            "...       ...        ...        ...            ...           ...\n",
            "17996  1799.6  84.176530 -91.263244       1.318690  1.105552e-09\n",
            "17997  1799.7  84.498752 -90.316580       1.242720  1.316555e-09\n",
            "17998  1799.8  84.720484 -89.341473       1.347206  1.606880e-09\n",
            "17999  1799.9  84.857951 -88.350966       1.432892  1.997075e-09\n",
            "18000  1800.0  84.961729 -87.356366       1.466831  2.495024e-09\n",
            "\n",
            "[18001 rows x 5 columns]\n"
          ]
        }
      ]
    },
    {
      "cell_type": "markdown",
      "source": [
        "With the simulation, we get a firing rate for each and every time stamp.\n",
        "\n",
        "Let's create an overall 2D firing-rate map from this time-resolved data."
      ],
      "metadata": {
        "id": "JFWZsZuJ06b9"
      }
    },
    {
      "cell_type": "code",
      "source": [
        "# function for estimating place tuning\n",
        "def calculate_allocentric_place_tuning(analysis, beh_neural):\n",
        "    \"\"\"\n",
        "    Calculates allocentric place tuning.\n",
        "    The output matrix is created in a way such that high x-values are to the right and high y-values are at top.\n",
        "\n",
        "    Arguments:\n",
        "        param: parameters\n",
        "        beh_neural (dataframe): behavioral and neural data\n",
        "\n",
        "    Returns:\n",
        "        place_tuning: average firing rate per location bin\n",
        "    \"\"\"\n",
        "\n",
        "    # preallocate\n",
        "    place_tuning = np.full((len(analysis['y_bin_centers']), len(analysis['x_bin_centers'])), np.nan)\n",
        "    occupancy = np.full((len(analysis['y_bin_centers']), len(analysis['x_bin_centers'])), np.zeros)\n",
        "\n",
        "    # bin locations\n",
        "    x_bin_idx = pd.cut(beh_neural.subj_x, bins = analysis['x_bin_edges'], labels = False, include_lowest = True).values\n",
        "    y_bin_idx = pd.cut(beh_neural.subj_y, bins = analysis['y_bin_edges'], labels = False, include_lowest = True).values\n",
        "\n",
        "    # average firing rate per bin\n",
        "    for i_x in range(len(analysis['x_bin_centers'])):\n",
        "        for i_y in range(len(analysis['y_bin_centers'])):\n",
        "            # find data points from this spatial bin\n",
        "            is_in_bin = (x_bin_idx == i_x) & (y_bin_idx == i_y)\n",
        "            # mean firing rate in this spatial bin\n",
        "            place_tuning[i_y, i_x] = np.nanmean(beh_neural.firing_rate[is_in_bin])\n",
        "            occupancy[i_y, i_x] = np.nansum(is_in_bin)\n",
        "\n",
        "    # flip up-and-down so that high x-values are at top\n",
        "    place_tuning = np.flipud(place_tuning)\n",
        "    occupancy = np.flipud(occupancy)\n",
        "\n",
        "    # normalize occupancy so that it adds to 1\n",
        "    occupancy = occupancy / np.sum(occupancy)\n",
        "\n",
        "    # output\n",
        "    return place_tuning, occupancy"
      ],
      "metadata": {
        "id": "z9qOBhbKfe5F"
      },
      "execution_count": null,
      "outputs": []
    },
    {
      "cell_type": "markdown",
      "source": [
        "Using this function, we can estimate the 2D firing-rate map of the simulated place cell. We will also estimate the probabilistic occupancy because we'll need that for calculating the spatial information content of the cell below."
      ],
      "metadata": {
        "id": "SsaUEZ5c1SR9"
      }
    },
    {
      "cell_type": "code",
      "source": [
        "# estimate place tuning\n",
        "place_tuning, occupancy = calculate_allocentric_place_tuning(analysis, beh_neural)"
      ],
      "metadata": {
        "id": "L8xJNxqAfQaT"
      },
      "execution_count": null,
      "outputs": []
    },
    {
      "cell_type": "markdown",
      "source": [
        "Let's define a function for plotting the 2D firing-rate map of the place cell."
      ],
      "metadata": {
        "id": "iSnqommJ1hrM"
      }
    },
    {
      "cell_type": "code",
      "source": [
        "# figure: allocentric place tuning\n",
        "def plot_allocentric_place_tuning(place_tuning, properties, analysis, plotting):\n",
        "    \"\"\"\n",
        "    Plots the firing-rate map for allocentric place tuning.\n",
        "\n",
        "    Arguments:\n",
        "        param: parameters\n",
        "        place_tuning: 2D matrix (high y-values at top)\n",
        "        properties: properties\n",
        "        file_name: file name for saving\n",
        "\n",
        "    Lukas Kunz, 2024\n",
        "    \"\"\"\n",
        "\n",
        "    # figure: place tuning\n",
        "    fig = plt.figure(facecolor = \"white\", figsize = (8 * plotting['cm'], 8 * plotting['cm']))\n",
        "    # main axes\n",
        "    main_ax = fig.add_axes([0.2, 0.2, 0.6, 0.6])\n",
        "    extent = [np.min(analysis['x_bin_edges']), np.max(analysis['x_bin_edges']), np.min(analysis['y_bin_edges']), np.max(analysis['y_bin_edges'])]\n",
        "    im = main_ax.imshow(place_tuning, extent = extent, cmap = 'jet', aspect = 'equal', interpolation = 'none', rasterized = True, vmin = 0, vmax = 1)\n",
        "    if 'pf_x' in properties.keys():\n",
        "        pf = main_ax.plot(properties['pf_x'], properties['pf_y'], '*', color = [0, 0, 0], markersize = 10) # indicate place field\n",
        "    if 'rp_x' in properties.keys():\n",
        "        rp = main_ax.plot(properties['rp_x'], properties['rp_y'], 'x', color = [1, 0, 0], markersize = 10) # also indicate reference point\n",
        "    main_ax.set_xlim([np.min(analysis['x_bin_edges']), np.max(analysis['x_bin_edges'])])\n",
        "    main_ax.set_ylim([np.min(analysis['y_bin_edges']), np.max(analysis['y_bin_edges'])])\n",
        "    main_ax.set_xticks([np.min(analysis['x_bin_edges']), np.max(analysis['x_bin_edges'])])\n",
        "    main_ax.set_yticks([np.min(analysis['y_bin_edges']), np.max(analysis['y_bin_edges'])])\n",
        "    main_ax.tick_params(axis = 'both', labelsize = 12)\n",
        "    main_ax.set_xlabel('x', labelpad = -8, fontsize = 12)\n",
        "    main_ax.set_ylabel('y', labelpad = -30, fontsize = 12, rotation = 0, va = 'center')\n",
        "    main_ax.set_title('Allocentric place', fontsize = 12, pad = 5)\n",
        "    # colorbar for place tuning\n",
        "    cbar_ax = fig.add_axes([0.825, 0.3, 0.025, 0.4])\n",
        "    cbar_ax.axis('off')\n",
        "    cb = fig.colorbar(im, ax = cbar_ax, fraction = 1)\n",
        "    cb.ax.tick_params(labelsize = 12)\n",
        "    cb.set_label('Firing rate', rotation = 270, labelpad = 3, fontsize = 12)\n",
        "    cb.set_ticks([0, 1])\n",
        "    plt.show()"
      ],
      "metadata": {
        "id": "qXLpvilLe1_K"
      },
      "execution_count": null,
      "outputs": []
    },
    {
      "cell_type": "markdown",
      "source": [
        "Great! Let's use this function to plot the 2D firing-rate map!"
      ],
      "metadata": {
        "id": "6jP6CCQ2103S"
      }
    },
    {
      "cell_type": "code",
      "source": [
        "# plot the two-dimensional firing-rate map of the place cell\n",
        "plot_allocentric_place_tuning(place_tuning, place_cell_properties, analysis, plotting)"
      ],
      "metadata": {
        "colab": {
          "base_uri": "https://localhost:8080/",
          "height": 281
        },
        "id": "uocZ5_sFg2f3",
        "outputId": "1407fd7e-5a40-496d-d079-3c0f86206645"
      },
      "execution_count": null,
      "outputs": [
        {
          "output_type": "display_data",
          "data": {
            "text/plain": [
              "<Figure size 314.961x314.961 with 3 Axes>"
            ],
            "image/png": "[encoded data removed]"
          },
          "metadata": {}
        }
      ]
    },
    {
      "cell_type": "markdown",
      "source": [
        "❓ **What do the different colors mean?**\n",
        "\n",
        "❓ **What does the black star represent?**"
      ],
      "metadata": {
        "id": "KeqrZFHL1-58"
      }
    },
    {
      "cell_type": "markdown",
      "source": [
        "Let's calculate a popular statistical metric, the spatial information content, for the simulated place cell and check whether it is significantly higher than expected by chance.\n",
        "\n",
        "To estimate the spatial information content of a place cell, we can use a measure derived from information theory. The spatial information content can tell us how much information a particular cell's firing conveys about an animal's location within an environment. One commonly used formula to calculate this comes from Shannon's entropy. For a given place cell, the spatial information (SI) in bits per spike is given by:\n",
        "\n",
        "$SI = \\sum_{i=1}^{N} (p_i \\cdot r_i) \\log_2 \\left(\\frac{r_i}{r}\\right)$\n",
        "\n",
        "where:\n",
        "- $N$ is the total number of spatial bins in the environment.\n",
        "- $p_i$ is the probability of the animal being in bin \\( i \\), estimated as the fraction of time the animal spends in bin \\( i \\).\n",
        "- $r_i$ is the firing rate of the cell in bin \\( i \\).\n",
        "- $r$ is the overall mean firing rate of the cell (across all bins).\n",
        "\n",
        "The product $p_i \\cdot r_i$ is essentially the average firing rate in bin $i$ normalized by the time spent in that bin, and the term $\\log_2(\\frac{r_i}{r})$ scales this by the ratio of the local firing rate to the overall firing rate."
      ],
      "metadata": {
        "id": "zNBkuUi7mJFq"
      }
    },
    {
      "cell_type": "markdown",
      "source": [
        "Here's a function for estimating the spatial information content."
      ],
      "metadata": {
        "id": "JowgxLPw2dZU"
      }
    },
    {
      "cell_type": "code",
      "source": [
        "# function: calculate spatial information content per spike\n",
        "def calculate_spatial_information_content(occupancy, place_tuning):\n",
        "    \"\"\"\n",
        "    Calculate the spatial information content per spike of a place cell.\n",
        "\n",
        "    Parameters:\n",
        "    - occupancy: numpy array of occupancy probabilities for each spatial bin (sums to 1).\n",
        "    - place_tuning: numpy array of the firing rate of the cell in each spatial bin.\n",
        "\n",
        "    Returns:\n",
        "    - spatial_info: the spatial information content in bits per spike.\n",
        "    \"\"\"\n",
        "\n",
        "    # Ensure no zero firing rate to avoid division by zero in log\n",
        "    place_tuning = np.where(place_tuning == 0, np.finfo(float).eps, place_tuning)\n",
        "\n",
        "    # Mean firing rate across all bins\n",
        "    mean_rate = np.sum(occupancy * place_tuning)\n",
        "\n",
        "    # Information content calculation\n",
        "    information_content = occupancy * place_tuning * np.log2(place_tuning / mean_rate)\n",
        "    spatial_info = np.nansum(information_content)  # Use nansum to ignore NaNs from zeros in occupancy or firing_rates\n",
        "\n",
        "    return spatial_info"
      ],
      "metadata": {
        "id": "uwWq8y5KjVik"
      },
      "execution_count": null,
      "outputs": []
    },
    {
      "cell_type": "markdown",
      "source": [
        "Let's use this function to estimate the cell's spatial information content."
      ],
      "metadata": {
        "id": "sLgdYrUY2hcz"
      }
    },
    {
      "cell_type": "code",
      "source": [
        "# calculate the spatial information content for this place cell\n",
        "spatial_info = calculate_spatial_information_content(occupancy, place_tuning)"
      ],
      "metadata": {
        "id": "giQocb3enNu3"
      },
      "execution_count": null,
      "outputs": []
    },
    {
      "cell_type": "markdown",
      "source": [
        "Here, we simulated this cell as a place cell, so we can be 100% sure that it is really a place cell.\n",
        "\n",
        "However, if we didn't know the ground truth, we would need a method for testing whether the spatial inforamtion content of this cell was indeed significantly high. This can be done, for example, by comparing the empirical spatial information content against surrogate spatial information content values.\n",
        "\n",
        "These surrogate values can be created by shifting the firing rates relative to the behavioral data. In this way, we can create many surrogate spatial information content values (let's say 100 or 1000). If the empirical spatial inforamtion content value is then higher than the 95th percentile of surrogate values, we typically reject the null hypothesis that the cell is not a place cell."
      ],
      "metadata": {
        "id": "TfNXvAfU3on-"
      }
    },
    {
      "cell_type": "markdown",
      "source": [
        "Let's create 100 surrogate spatial information content values by doing exactly the same steps as above."
      ],
      "metadata": {
        "id": "fxMzszbZ41zv"
      }
    },
    {
      "cell_type": "code",
      "source": [
        "# to know whether the cell encodes a significant amount of spatial inforamtion, compare against surrogates\n",
        "n_surrogates = 100\n",
        "surro_spatial_info = np.full(n_surrogates, np.nan)\n",
        "for i_surro in range(n_surrogates):\n",
        "\n",
        "    # random shift\n",
        "    random_shift = np.random.randint(1, high = beh_neural.shape[0], size = 1, dtype = int)\n",
        "\n",
        "    # create surrogate data by circularly shifting the firing rates relative to the behavioral data\n",
        "    surro_beh_neural = beh_neural.copy()\n",
        "    surro_beh_neural.firing_rate = np.roll(surro_beh_neural.firing_rate, random_shift)\n",
        "\n",
        "    # calculate place tuning for this surrogate data\n",
        "    surro_place_tuning, surro_occupancy = calculate_allocentric_place_tuning(analysis, surro_beh_neural)\n",
        "\n",
        "    # calculate spatial information content for this surrogate data\n",
        "    surro_spatial_info[i_surro] = calculate_spatial_information_content(surro_occupancy, surro_place_tuning)"
      ],
      "metadata": {
        "id": "26u1sPZPnXpZ"
      },
      "execution_count": null,
      "outputs": []
    },
    {
      "cell_type": "markdown",
      "source": [
        "Perfect! Let's compare the empirical value against the surrogate values."
      ],
      "metadata": {
        "id": "uj0Ln2B848ex"
      }
    },
    {
      "cell_type": "code",
      "source": [
        "# now compare the spatial information content of the place cell against the surrogate spatial information contents\n",
        "rank = np.sum(spatial_info > surro_spatial_info) / np.sum(~np.isnan(surro_spatial_info))\n",
        "p_value = 1 - rank\n",
        "\n",
        "# report\n",
        "print('Is the simulated place cell a place cell according to its spatial information content? p = ' + str(p_value))"
      ],
      "metadata": {
        "colab": {
          "base_uri": "https://localhost:8080/"
        },
        "id": "Y7IixY2ho-nD",
        "outputId": "fb25ab8c-8168-4be4-f2bd-50794e4a95ab"
      },
      "execution_count": null,
      "outputs": [
        {
          "output_type": "stream",
          "name": "stdout",
          "text": [
            "Is the simulated place cell a place cell according to its spatial information content? p = 0.0\n"
          ]
        }
      ]
    },
    {
      "cell_type": "markdown",
      "source": [
        "❓ **How would you interpret these results?**"
      ],
      "metadata": {
        "id": "bl_OP-ZJ5L3A"
      }
    },
    {
      "cell_type": "markdown",
      "source": [
        "# **You've reached the end of the tutorial!**\n",
        "\n",
        "If you're interested in learning more, check out the next section.\n"
      ],
      "metadata": {
        "id": "MDbAR8XvFeZM"
      }
    },
    {
      "cell_type": "markdown",
      "source": [
        "## **Further Reading**\n",
        "\n",
        "#### Documentations of the imported libraries\n",
        "* [Numpy](https://numpy.org/doc/stable/)\n",
        "* [Pandas](https://pandas.pydata.org/docs/)\n",
        "* [Matplotlib](https://matplotlib.org/stable/contents.html)\n",
        "* [Scipy](https://docs.scipy.org/doc/scipy/)\n",
        "\n",
        "\n",
        "#### Tutorials for using pyplot, pandas, and numpy\n",
        "* [Pyplot Tutorial](https://matplotlib.org/stable/tutorials/introductory/pyplot.html#sphx-glr-tutorials-introductory-pyplot-py)\n",
        "* [10 minutes to Pandas](https://pandas.pydata.org/pandas-docs/stable/user_guide/10min.html)\n",
        "* [Numpy quickstart](https://numpy.org/doc/stable/user/quickstart.html)\n",
        "\n",
        "#### Place-cell papers\n",
        "* [Original report](https://www.sciencedirect.com/science/article/pii/0006899371903581?via%3Dihub)\n",
        "* [Place cells and Alzheimer's disease](https://www.ncbi.nlm.nih.gov/pmc/articles/PMC2396558/)\n",
        "* [Place cells in humans](https://www.nature.com/articles/s41593-023-01550-x)\n",
        "* [Causal relevance of place cells](https://www.nature.com/articles/nn.4653)"
      ],
      "metadata": {
        "id": "SUESfefVSH_Q"
      }
    }
  ]
}