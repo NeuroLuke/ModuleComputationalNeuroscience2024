{
  "nbformat": 4,
  "nbformat_minor": 0,
  "metadata": {
    "colab": {
      "provenance": [],
      "authorship_tag": "ABX9TyMnJrV9utlwJuT6O5fu3PdR",
      "include_colab_link": true
    },
    "kernelspec": {
      "name": "python3",
      "display_name": "Python 3"
    },
    "language_info": {
      "name": "python"
    }
  },
  "cells": [
    {
      "cell_type": "markdown",
      "metadata": {
        "id": "view-in-github",
        "colab_type": "text"
      },
      "source": [
        "<a href=\"https://colab.research.google.com/github/NeuroLuke/ModuleComputationalNeuroscience2024/blob/main/LK_PerceptronExample_20240519.ipynb\" target=\"_parent\"><img src=\"https://colab.research.google.com/assets/colab-badge.svg\" alt=\"Open In Colab\"/></a>"
      ]
    },
    {
      "cell_type": "markdown",
      "source": [
        "# **Perceptron example**\n",
        "\n",
        "This notebook shows an example of how a perceptron performs is computations.\n",
        "\n",
        "Lukas Kunz, 2024."
      ],
      "metadata": {
        "id": "-mjPG-AqtHBA"
      }
    },
    {
      "cell_type": "code",
      "source": [
        "import numpy as np\n",
        "import matplotlib.pyplot as plt"
      ],
      "metadata": {
        "id": "kC82A8qOtevR"
      },
      "execution_count": 1,
      "outputs": []
    },
    {
      "cell_type": "markdown",
      "source": [
        "Createa function that checks for misclassifications using the current set of weights and biases."
      ],
      "metadata": {
        "id": "aVcnMpEYtjYd"
      }
    },
    {
      "cell_type": "code",
      "source": [
        "def check_for_misclassification(weights, bias, data_point, label):\n",
        "    estimate = label * (np.dot(weights, data_point) + bias)\n",
        "    is_misclassification = estimate <= 0\n",
        "    return is_misclassification"
      ],
      "metadata": {
        "id": "OE9UWrAwthY2"
      },
      "execution_count": 2,
      "outputs": []
    },
    {
      "cell_type": "markdown",
      "source": [
        "Create a function that updates the weights and biases if necessary."
      ],
      "metadata": {
        "id": "ujBFz6o5tvmc"
      }
    },
    {
      "cell_type": "code",
      "source": [
        "def update_weights_and_bias(weights, bias, data_point, label):\n",
        "    weights = weights + label * data_point\n",
        "    bias = bias + label\n",
        "    return weights, bias"
      ],
      "metadata": {
        "id": "z70XGNXBtuJ_"
      },
      "execution_count": 3,
      "outputs": []
    },
    {
      "cell_type": "markdown",
      "source": [
        "Define some data points and corresponding class labels.\n",
        "Class labels need to be -1 or 1."
      ],
      "metadata": {
        "id": "lB4X9k1Lt044"
      }
    },
    {
      "cell_type": "code",
      "source": [
        "data = np.array([[1, 2], [2, 3], [3, 3], [2, 1]]) # four data points\n",
        "labels = np.array([1, 1, -1, -1]) # class labels for the four data points"
      ],
      "metadata": {
        "id": "pf5LsipYt3au"
      },
      "execution_count": 4,
      "outputs": []
    },
    {
      "cell_type": "markdown",
      "source": [
        "Initialize weights and bias as zeros. Could also use random numbers for initialization."
      ],
      "metadata": {
        "id": "nopgpECbuIHI"
      }
    },
    {
      "cell_type": "code",
      "source": [
        "weights = np.zeros(2)\n",
        "bias = 0"
      ],
      "metadata": {
        "id": "ir0qXNq1uGQo"
      },
      "execution_count": 5,
      "outputs": []
    },
    {
      "cell_type": "markdown",
      "source": [
        "Perform the analysis"
      ],
      "metadata": {
        "id": "ciWgbQmOuQ-p"
      }
    },
    {
      "cell_type": "code",
      "execution_count": 6,
      "metadata": {
        "colab": {
          "base_uri": "https://localhost:8080/"
        },
        "collapsed": true,
        "id": "iHZEJYJishXh",
        "outputId": "9242e006-3b37-4fcb-861e-a3ecaff89ff3"
      },
      "outputs": [
        {
          "output_type": "stream",
          "name": "stdout",
          "text": [
            "\n",
            "Example computations performed by a perceptron.\n",
            "\n",
            "Initial weights: [0.0, 0.0].\n",
            "Initial bias: 0.\n",
            "\n",
            "Iteration: 1.\n",
            "\n",
            "\tData sample #1.\n",
            "\tIs a misclassification: True.\n",
            "\tCurrent weights: [1.0, 2.0].\n",
            "\tCurrent bias: 1.\n",
            "\n",
            "\tData sample #2.\n",
            "\tIs a misclassification: False.\n",
            "\tCurrent weights: [1.0, 2.0].\n",
            "\tCurrent bias: 1.\n",
            "\n",
            "\tData sample #3.\n",
            "\tIs a misclassification: True.\n",
            "\tCurrent weights: [-2.0, -1.0].\n",
            "\tCurrent bias: 0.\n",
            "\n",
            "\tData sample #4.\n",
            "\tIs a misclassification: False.\n",
            "\tCurrent weights: [-2.0, -1.0].\n",
            "\tCurrent bias: 0.\n",
            "\n",
            "Iteration: 2.\n",
            "\n",
            "\tData sample #1.\n",
            "\tIs a misclassification: True.\n",
            "\tCurrent weights: [-1.0, 1.0].\n",
            "\tCurrent bias: 1.\n",
            "\n",
            "\tData sample #2.\n",
            "\tIs a misclassification: False.\n",
            "\tCurrent weights: [-1.0, 1.0].\n",
            "\tCurrent bias: 1.\n",
            "\n",
            "\tData sample #3.\n",
            "\tIs a misclassification: True.\n",
            "\tCurrent weights: [-4.0, -2.0].\n",
            "\tCurrent bias: 0.\n",
            "\n",
            "\tData sample #4.\n",
            "\tIs a misclassification: False.\n",
            "\tCurrent weights: [-4.0, -2.0].\n",
            "\tCurrent bias: 0.\n",
            "\n",
            "Iteration: 3.\n",
            "\n",
            "\tData sample #1.\n",
            "\tIs a misclassification: True.\n",
            "\tCurrent weights: [-3.0, 0.0].\n",
            "\tCurrent bias: 1.\n",
            "\n",
            "\tData sample #2.\n",
            "\tIs a misclassification: True.\n",
            "\tCurrent weights: [-1.0, 3.0].\n",
            "\tCurrent bias: 2.\n",
            "\n",
            "\tData sample #3.\n",
            "\tIs a misclassification: True.\n",
            "\tCurrent weights: [-4.0, 0.0].\n",
            "\tCurrent bias: 1.\n",
            "\n",
            "\tData sample #4.\n",
            "\tIs a misclassification: False.\n",
            "\tCurrent weights: [-4.0, 0.0].\n",
            "\tCurrent bias: 1.\n",
            "\n",
            "Iteration: 4.\n",
            "\n",
            "\tData sample #1.\n",
            "\tIs a misclassification: True.\n",
            "\tCurrent weights: [-3.0, 2.0].\n",
            "\tCurrent bias: 2.\n",
            "\n",
            "\tData sample #2.\n",
            "\tIs a misclassification: False.\n",
            "\tCurrent weights: [-3.0, 2.0].\n",
            "\tCurrent bias: 2.\n",
            "\n",
            "\tData sample #3.\n",
            "\tIs a misclassification: False.\n",
            "\tCurrent weights: [-3.0, 2.0].\n",
            "\tCurrent bias: 2.\n",
            "\n",
            "\tData sample #4.\n",
            "\tIs a misclassification: False.\n",
            "\tCurrent weights: [-3.0, 2.0].\n",
            "\tCurrent bias: 2.\n",
            "\n",
            "Iteration: 5.\n",
            "\n",
            "\tData sample #1.\n",
            "\tIs a misclassification: False.\n",
            "\tCurrent weights: [-3.0, 2.0].\n",
            "\tCurrent bias: 2.\n",
            "\n",
            "\tData sample #2.\n",
            "\tIs a misclassification: False.\n",
            "\tCurrent weights: [-3.0, 2.0].\n",
            "\tCurrent bias: 2.\n",
            "\n",
            "\tData sample #3.\n",
            "\tIs a misclassification: False.\n",
            "\tCurrent weights: [-3.0, 2.0].\n",
            "\tCurrent bias: 2.\n",
            "\n",
            "\tData sample #4.\n",
            "\tIs a misclassification: False.\n",
            "\tCurrent weights: [-3.0, 2.0].\n",
            "\tCurrent bias: 2.\n",
            "\n",
            "Reached a state of no misclassifications.\n"
          ]
        }
      ],
      "source": [
        "# preallocations\n",
        "no_misclassifications = False # whether all data samples have been classified correctly in a given iteration\n",
        "i_iteration = 0\n",
        "\n",
        "# report initial weights and bias\n",
        "print('\\nExample computations performed by a perceptron.')\n",
        "print('\\nInitial weights: [{}, {}].'.format(weights[0], weights[1]))\n",
        "print('Initial bias: {}.'.format(bias))\n",
        "\n",
        "# iterative estimation of weights and bias\n",
        "while not no_misclassifications:\n",
        "\n",
        "    # report\n",
        "    i_iteration += 1\n",
        "    print('\\nIteration: {}.'.format(i_iteration))\n",
        "\n",
        "    # store misclassification information for all samples\n",
        "    is_misclassification = np.zeros(data.shape[0], dtype = bool)\n",
        "\n",
        "    # loop through all data points\n",
        "    for i_data in range(data.shape[0]):\n",
        "\n",
        "        # check whether the data is correctly classified with the current set of weights and bias\n",
        "        is_misclassification[i_data] = check_for_misclassification(weights, bias, data[i_data], labels[i_data])\n",
        "\n",
        "        # report\n",
        "        print('\\n\\tData sample #{}.'.format(i_data + 1))\n",
        "        print('\\tIs a misclassification: {}.'.format(is_misclassification[i_data]))\n",
        "\n",
        "        # update weights and bias if necessary\n",
        "        if is_misclassification[i_data]:\n",
        "            weights, bias = update_weights_and_bias(weights, bias, data[i_data], labels[i_data])\n",
        "\n",
        "        # report\n",
        "        print('\\tCurrent weights: [{}, {}].'.format(weights[0], weights[1]))\n",
        "        print('\\tCurrent bias: {}.'.format(bias))\n",
        "\n",
        "    # check whether there were no misclassifications\n",
        "    no_misclassifications = not np.any(is_misclassification)\n",
        "    if no_misclassifications:\n",
        "        print('\\nReached a state of no misclassifications.')\n",
        "\n"
      ]
    },
    {
      "cell_type": "markdown",
      "source": [
        "Now we can estimate the decision boundary.\n",
        "\n",
        "The formula for the decision boundary is: w * x + b = 0.\n",
        "\n",
        "In a scenario where each data sample has two features, the following formula for the decision boundary can be derived:\n",
        "- w1 * x1 + w2 * x2 + b = 0\n",
        "- x2 = -1 * (w1 * x1 + b) / w2"
      ],
      "metadata": {
        "id": "dKVbaD6gwfoy"
      }
    },
    {
      "cell_type": "code",
      "source": [
        "# estimate the decision boundary using a range of x-values\n",
        "x_decision = np.linspace(-10, 10, 1000)\n",
        "y_decision = -1 * (weights[0] * x_decision + bias) / weights[1]"
      ],
      "metadata": {
        "id": "DKRXingLwSfD"
      },
      "execution_count": 7,
      "outputs": []
    },
    {
      "cell_type": "markdown",
      "source": [
        "Let's create a figure showing the data and the decision boundary estimated by the perceptron."
      ],
      "metadata": {
        "id": "OUEZ69Qawa6A"
      }
    },
    {
      "cell_type": "code",
      "source": [
        "# plot the results\n",
        "plt.figure(figsize = (6, 6))\n",
        "plt.title('Perceptron decision boundary')\n",
        "\n",
        "# data points from both classes\n",
        "plt.scatter(data[labels == 1][:, 0], data[labels == 1][:, 1], color = 'red', s = 200, marker = '.', label = 'Class 1')\n",
        "plt.scatter(data[labels == -1][:, 0], data[labels == -1][:, 1], color = 'blue', s = 100, marker = 'x', label = 'Class -1')\n",
        "\n",
        "# decision boundary\n",
        "plt.plot(x_decision, y_decision, 'g-', linewidth = 2, label = 'Decision boundary')\n",
        "\n",
        "# axes labels\n",
        "plt.xlabel('Feature 1')\n",
        "plt.ylabel('Feature 2')\n",
        "plt.xlim([0, 4])\n",
        "plt.ylim([0, 4])\n",
        "plt.grid(True)\n",
        "plt.legend()\n",
        "plt.show()"
      ],
      "metadata": {
        "colab": {
          "base_uri": "https://localhost:8080/",
          "height": 564
        },
        "id": "dZk7TaEbwXy3",
        "outputId": "0d5a48ab-9ca5-41ab-b1cd-a5c8e47e59ad"
      },
      "execution_count": 9,
      "outputs": [
        {
          "output_type": "display_data",
          "data": {
            "text/plain": [
              "<Figure size 600x600 with 1 Axes>"
            ],
            "image/png": "[encoded data removed]"
          },
          "metadata": {}
        }
      ]
    }
  ]
}